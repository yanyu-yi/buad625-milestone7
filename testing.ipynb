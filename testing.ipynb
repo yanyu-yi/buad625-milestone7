{
 "cells": [
  {
   "cell_type": "code",
   "execution_count": 15,
   "metadata": {},
   "outputs": [],
   "source": [
    "from data_processor import DataProcessor\n",
    "import pandas as pd\n"
   ]
  },
  {
   "cell_type": "code",
   "execution_count": 2,
   "metadata": {},
   "outputs": [],
   "source": [
    "data_processer = DataProcessor(\"dd\")"
   ]
  },
  {
   "cell_type": "code",
   "execution_count": 3,
   "metadata": {},
   "outputs": [
    {
     "name": "stdout",
     "output_type": "stream",
     "text": [
      "CustomerId: 1269 AccountId: 781164 isFraud: 1\n",
      "CustomerId: 1522 AccountId: 533451 isFraud: 1\n",
      "CustomerId: 1711 AccountId: 555188 isFraud: 1\n",
      "CustomerId: 1198 AccountId: 313685 isFraud: 0\n",
      "CustomerId: 1642 AccountId: 652187 isFraud: 1\n",
      "CustomerId: 1709 AccountId: 282849 isFraud: 0\n",
      "CustomerId: 1668 AccountId: 743179 isFraud: 1\n",
      "CustomerId: 1358 AccountId: 768435 isFraud: 1\n",
      "CustomerId: 1277 AccountId: 555763 isFraud: 1\n",
      "CustomerId: 1234 AccountId: 286739 isFraud: 1\n",
      "CustomerId: 1618 AccountId: 791022 isFraud: 1\n",
      "CustomerId: 1154 AccountId: 639778 isFraud: 1\n",
      "CustomerId: 1041 AccountId: 204514 isFraud: 1\n",
      "CustomerId: 1088 AccountId: 312921 isFraud: 1\n",
      "CustomerId: 1728 AccountId: 273199 isFraud: 1\n",
      "CustomerId: 1135 AccountId: 706942 isFraud: 0\n",
      "CustomerId: 1518 AccountId: 302872 isFraud: 1\n",
      "CustomerId: 1712 AccountId: 655325 isFraud: 1\n",
      "CustomerId: 1796 AccountId: 771040 isFraud: 1\n",
      "CustomerId: 1047 AccountId: 352876 isFraud: 1\n"
     ]
    },
    {
     "data": {
      "text/plain": [
       "False"
      ]
     },
     "execution_count": 3,
     "metadata": {},
     "output_type": "execute_result"
    }
   ],
   "source": [
    "data_processer.execute()"
   ]
  },
  {
   "cell_type": "code",
   "execution_count": 16,
   "metadata": {},
   "outputs": [],
   "source": [
    "people = data_processer.persons\n",
    "data = [[v.get_customer_id(), v.get_account_id(), v.fraud] for v in people.values()]\n",
    "df = pd.DataFrame(data, columns = ['CustomerId', 'AccountId', 'verifiedId'])\n"
   ]
  },
  {
   "cell_type": "code",
   "execution_count": 17,
   "metadata": {},
   "outputs": [
    {
     "name": "stdout",
     "output_type": "stream",
     "text": [
      "   CustomerId AccountId  verifiedId\n",
      "0        1269    781164           1\n",
      "1        1522    533451           1\n",
      "2        1711    555188           1\n",
      "3        1198    313685           0\n",
      "4        1642    652187           1\n",
      "5        1709    282849           0\n",
      "6        1668    743179           1\n",
      "7        1358    768435           1\n",
      "8        1277    555763           1\n",
      "9        1234    286739           1\n",
      "10       1618    791022           1\n",
      "11       1154    639778           1\n",
      "12       1041    204514           1\n",
      "13       1088    312921           1\n",
      "14       1728    273199           1\n",
      "15       1135    706942           0\n",
      "16       1518    302872           1\n",
      "17       1712    655325           1\n",
      "18       1796    771040           1\n",
      "19       1047    352876           1\n"
     ]
    }
   ],
   "source": [
    "print(df)"
   ]
  }
 ],
 "metadata": {
  "interpreter": {
   "hash": "31f2aee4e71d21fbe5cf8b01ff0e069b9275f58929596ceb00d14d90e3e16cd6"
  },
  "kernelspec": {
   "display_name": "Python 3 (ipykernel)",
   "language": "python",
   "name": "python3"
  },
  "language_info": {
   "codemirror_mode": {
    "name": "ipython",
    "version": 3
   },
   "file_extension": ".py",
   "mimetype": "text/x-python",
   "name": "python",
   "nbconvert_exporter": "python",
   "pygments_lexer": "ipython3",
   "version": "3.9.7"
  }
 },
 "nbformat": 4,
 "nbformat_minor": 2
}
